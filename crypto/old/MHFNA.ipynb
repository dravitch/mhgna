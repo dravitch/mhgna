{
 "cells": [
  {
   "cell_type": "code",
   "execution_count": null,
   "metadata": {
    "vscode": {
     "languageId": "plaintext"
    }
   },
   "outputs": [],
   "source": [
    "📁 MHGNA.ipynb\n",
    "│\n",
    "├── 📦 Configuration\n",
    "│   └── 🔧 class Config\n",
    "│       ├── tickers\n",
    "│       ├── start_date, end_date\n",
    "│       ├── horizons (court, moyen, long)\n",
    "│       ├── rebalance_freq, portfolio_size\n",
    "│       ├── alpha_short, alpha_medium, alpha_long\n",
    "│       ├── momentum_window, momentum_weight\n",
    "│       ├── max_turnover, max/min_asset_weight\n",
    "│       └── drawdown_threshold, recovery_threshold\n",
    "│\n",
    "├── 📦 Fonctions de base\n",
    "│   ├── 📊 get_data()\n",
    "│   ├── 🔄 build_multi_horizon_dependency_graph()\n",
    "│   ├── 📈 plot_dependency_network()\n",
    "│   ├── 🎯 select_portfolio_assets()\n",
    "│   ├── 🧮 allocate_portfolio()\n",
    "│   ├── 📉 apply_drawdown_control()\n",
    "│   └── 📋 analyze_performance()\n",
    "│\n",
    "├── 📦 Visualisation avancée\n",
    "│   ├── 📊 plot_dependency_network_improved()\n",
    "│   ├── 📈 plot_results_improved()\n",
    "│   └── 📉 plot_enhanced_results()\n",
    "│\n",
    "├── 📦 Optimisation des transactions\n",
    "│   └── 🔧 class TransactionOptimizer\n",
    "│       ├── calculate_transaction_costs()\n",
    "│       ├── should_rebalance()\n",
    "│       ├── optimize_weights_with_turnover_constraint()\n",
    "│       ├── estimate_expected_improvement()\n",
    "│       └── get_optimization_stats()\n",
    "│\n",
    "├── 📦 Préservation des gains\n",
    "│   ├── 🔧 enum PreservationStrategy\n",
    "│   └── 🔧 class GainPreservationModule\n",
    "│       ├── calculate_preservation_allocation()\n",
    "│       ├── _threshold_based_allocation()\n",
    "│       ├── _volatility_based_allocation()\n",
    "│       ├── _drawdown_based_allocation()\n",
    "│       ├── _time_based_allocation()\n",
    "│       ├── _hybrid_allocation()\n",
    "│       ├── adjust_allocation_weights()\n",
    "│       └── generate_report()\n",
    "│\n",
    "├── 📦 Backtest\n",
    "│   ├── 🔄 backtest_strategy()\n",
    "│   └── 🔄 enhanced_mhgna_backtest()\n",
    "│\n",
    "├── 📦 Rapports et exportation\n",
    "│   └── 📋 export_results()\n",
    "│\n",
    "└── 📦 Fonctions d'exécution\n",
    "    ├── 🚀 run_analysis()\n",
    "    ├── 🚀 run_mhgna_analysis_debug()\n",
    "    ├── 🚀 run_enhanced_mhgna_analysis()\n",
    "    └── 🚀 run_complete_mhgna()"
   ]
  }
 ],
 "metadata": {
  "language_info": {
   "name": "python"
  }
 },
 "nbformat": 4,
 "nbformat_minor": 2
}
